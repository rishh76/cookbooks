{
  "nbformat": 4,
  "nbformat_minor": 0,
  "metadata": {
    "colab": {
      "provenance": []
    },
    "kernelspec": {
      "name": "python3",
      "display_name": "Python 3"
    },
    "language_info": {
      "name": "python"
    }
  },
  "cells": [
    {
      "cell_type": "markdown",
      "source": [
        "# Whisper Finetuning with MonsterTuner\n",
        "\n",
        "MonsterTuner is a new service from MonsterAPI designed to streamline the finetuning of popular AI models on our advanced compute infrastructure. With just one request, you can easily customize AI models for your business needs, making the process up to 10X more efficient and cost-effective.\n",
        "\n",
        "### Supported Models for Finetuning:\n",
        "\n",
        "1. LLM (Large Language Model) - Configure and start a fine-tuning job for LLMs.\n",
        "2. Whisper - Configure and start a Whisper fine-tuning job.\n",
        "3. SDXL Dreambooth - Configure and start a Dreambooth fine-tuning job using the Stable Diffusion model.\n",
        "\n",
        "\n",
        "Checkout our [Developer Docs](https://developer.monsterapi.ai/docs/launch-a-whisper-finetuning-job) on how to launch a Whisper Finetuning Job with no-coding\n"
      ],
      "metadata": {
        "id": "IqENk2h8yZNz"
      }
    },
    {
      "cell_type": "code",
      "source": [
        "!pip install monsterapi==1.0.8"
      ],
      "metadata": {
        "id": "9JybrHe8y17T"
      },
      "execution_count": null,
      "outputs": []
    },
    {
      "cell_type": "markdown",
      "source": [
        "Sign up on [MonsterAPI](https://monsterapi.ai/signup?utm_source=llm-deploy-colab&utm_medium=referral) and get a FREE API key. Paste it below:"
      ],
      "metadata": {
        "id": "ZK64gMDuy4KW"
      }
    },
    {
      "cell_type": "code",
      "execution_count": null,
      "metadata": {
        "id": "sRowQKSnyC7-"
      },
      "outputs": [],
      "source": [
        "import os\n",
        "from monsterapi import client as mclient\n",
        "\n",
        "os.environ[\"HF_TOKEN\"] = 'PROVIDE_HUGGINGFACE_READ_KEY'\n",
        "os.environ['MONSTER_API_KEY'] = 'PROVIDE_MONSTER_API_KEY'"
      ]
    },
    {
      "cell_type": "markdown",
      "source": [
        "### Launch Finetuning Job\n",
        "\n",
        "This code block sets up the `lauch_payload` for Whisper Finetuning. It configures the model to use \"OpenAI/whisper-large-v3\" for transcribing Hindi language, utilizing the \"mozilla/common_voice_11_0\" dataset from Hugging Face's hub. The training parameters include a specific learning rate, number of epochs, and batch size"
      ],
      "metadata": {
        "id": "PxrorS9MKrCM"
      }
    },
    {
      "cell_type": "code",
      "source": [
        "hf_login_key = os.environ.get(\"HF_TOKEN\")\n",
        "client = mclient(api_key=os.environ.get(\"MONSTER_API_KEY\"))\n",
        "\n",
        "launch_payload = {\n",
        "    \"hf_login_key\": hf_login_key,\n",
        "\n",
        "    \"pretrainedmodel_config\": {\n",
        "        \"model_path\": \"OpenAI/whisper-large-v3\",\n",
        "        \"task\": \"transcribe\",\n",
        "        \"language\": \"Hindi\"\n",
        "    },\n",
        "\n",
        "    \"huggingface_config\": {\n",
        "      \"hf_login_key\": hf_login_key,\n",
        "      \"hf_modelsavepath\": \"test_whisper_v3_finetuning_mozilla\"\n",
        "    },\n",
        "\n",
        "    \"data_config\": {\n",
        "        \"hf_login_key\": hf_login_key,\n",
        "        \"data_path\": \"mozilla-foundation/common_voice_11_0\",\n",
        "        \"data_subset\": \"hi\",\n",
        "        \"data_source_type\": \"hub_link\"\n",
        "    },\n",
        "    \"training_config\": {\n",
        "        \"gradient_accumulation_steps\": 4,\n",
        "        \"learning_rate\": 0.001,\n",
        "        \"warmup_steps\": 50,\n",
        "        \"num_train_epochs\": 1,\n",
        "        \"per_device_train_batch_size\": 8,\n",
        "        \"generation_max_length\": 128,\n",
        "        \"lr_scheduler_type\": \"reduce_lr_on_plateau\"\n",
        "    },\n",
        "    \"logging_config\": { \"use_wandb\": False }\n",
        "}\n",
        "\n",
        "ret = client.finetune(service=\"speech2text/whisper\", params=launch_payload)\n",
        "deployment_id = ret.get(\"deployment_id\")\n",
        "print(ret)"
      ],
      "metadata": {
        "id": "uaN93Po8y675"
      },
      "execution_count": null,
      "outputs": []
    },
    {
      "cell_type": "markdown",
      "source": [
        "### Fetch your Finetuning Job Status:\n",
        "\n",
        "Wait until the status is `Live`. It should take 5-10 minutes."
      ],
      "metadata": {
        "id": "4UEdXI-GzMgg"
      }
    },
    {
      "cell_type": "code",
      "source": [
        "# Get deployment status\n",
        "status_ret = client.get_deployment_status(deployment_id)\n",
        "print(status_ret)"
      ],
      "metadata": {
        "id": "NCIvdGfdzNCZ"
      },
      "execution_count": null,
      "outputs": []
    },
    {
      "cell_type": "markdown",
      "source": [
        "------\n",
        "\n",
        "### Get Finetuning Job Logs\n",
        "\n",
        "To see your finetuning job progress, please run the cell below"
      ],
      "metadata": {
        "id": "k3qCzxOkzQ8K"
      }
    },
    {
      "cell_type": "code",
      "source": [
        "# Get deployment logs\n",
        "logs_ret = client.get_deployment_logs(deployment_id)\n",
        "print(logs_ret)"
      ],
      "metadata": {
        "id": "-oitFR1qzOhw"
      },
      "execution_count": null,
      "outputs": []
    },
    {
      "cell_type": "markdown",
      "source": [
        "------\n",
        "\n",
        "### Terminate Finetuning Job\n",
        "\n",
        "CAUTION: If you wish to terminate your finetuning job, please run the cell below"
      ],
      "metadata": {
        "id": "_TLZdFdazVER"
      }
    },
    {
      "cell_type": "code",
      "source": [
        "## Terminate Deployment\n",
        "# terminate_return = client.terminate_deployment(deployment_id)\n",
        "# print(terminate_return)"
      ],
      "metadata": {
        "id": "RDHWzEKkzTMY"
      },
      "execution_count": null,
      "outputs": []
    }
  ]
}